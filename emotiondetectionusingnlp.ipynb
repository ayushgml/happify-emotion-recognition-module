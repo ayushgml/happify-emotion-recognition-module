{
 "cells": [
  {
   "cell_type": "markdown",
   "metadata": {
    "colab_type": "text",
    "id": "view-in-github"
   },
   "source": [
    "<a href=\"https://colab.research.google.com/github/imRitam10/emotionDetectionUsingNLP/blob/main/emotiondetectionusingnlp.ipynb\" target=\"_parent\"><img src=\"https://colab.research.google.com/assets/colab-badge.svg\" alt=\"Open In Colab\"/></a>"
   ]
  },
  {
   "cell_type": "markdown",
   "metadata": {
    "id": "CrYJAcPMbJz1"
   },
   "source": [
    "# Data Information"
   ]
  },
  {
   "cell_type": "code",
   "execution_count": 2,
   "metadata": {
    "colab": {
     "base_uri": "https://localhost:8080/"
    },
    "execution": {
     "iopub.execute_input": "2021-11-18T18:23:15.996596Z",
     "iopub.status.busy": "2021-11-18T18:23:15.996120Z",
     "iopub.status.idle": "2021-11-18T18:23:56.075975Z",
     "shell.execute_reply": "2021-11-18T18:23:56.075053Z",
     "shell.execute_reply.started": "2021-11-18T18:23:15.996543Z"
    },
    "id": "ZV6pCb3TVGAs",
    "outputId": "f8f752fb-cc4c-4220-fc5a-9850e0a8e435"
   },
   "outputs": [
    {
     "name": "stderr",
     "output_type": "stream",
     "text": [
      "[nltk_data] Downloading package wordnet to\n",
      "[nltk_data]     /Users/ayushgupta/nltk_data...\n",
      "[nltk_data]   Unzipping corpora/wordnet.zip.\n",
      "[nltk_data] Downloading package stopwords to\n",
      "[nltk_data]     /Users/ayushgupta/nltk_data...\n",
      "[nltk_data]   Unzipping corpora/stopwords.zip.\n"
     ]
    }
   ],
   "source": [
    "import numpy as np\n",
    "import pandas as pd\n",
    "import matplotlib.pyplot as plt\n",
    "import math\n",
    "import mlxtend\n",
    "import sklearn.cluster as cluster\n",
    "import sklearn.neighbors\n",
    "import sklearn.metrics as metrics\n",
    "import re\n",
    "from nltk.corpus import stopwords\n",
    "from sklearn.feature_extraction.text import CountVectorizer\n",
    "from sklearn.metrics.pairwise import cosine_similarity\n",
    "import string\n",
    "from sklearn.metrics import ConfusionMatrixDisplay\n",
    "from sklearn.linear_model import LogisticRegression\n",
    "from sklearn.model_selection import train_test_split\n",
    "from sklearn.model_selection import cross_val_score\n",
    "from sklearn.feature_extraction.text import TfidfTransformer\n",
    "from sklearn.naive_bayes import MultinomialNB\n",
    "from sklearn.metrics import classification_report,confusion_matrix, roc_curve, auc, precision_score, recall_score, f1_score, precision_recall_curve\n",
    "import nltk\n",
    "nltk.download('wordnet')\n",
    "nltk.download('stopwords')\n",
    "from nltk.tokenize import word_tokenize \n",
    "from nltk.tokenize import RegexpTokenizer\n",
    "import warnings\n",
    "warnings.filterwarnings('ignore')\n",
    "\n",
    "# Input data files are available in the read-only \"../input/\" directory\n",
    "# For example, running this (by clicking run or pressing Shift+Enter) will list all files under the input directory\n",
    "\n",
    "import os\n",
    "for dirname, _, filenames in os.walk('/kaggle/input'):\n",
    "    for filename in filenames:\n",
    "        print(os.path.join(dirname, filename))\n",
    "\n",
    "# You can write up to 20GB to the current directory (/kaggle/working/) that gets preserved as output when you create a version using \"Save & Run All\" \n",
    "# You can also write temporary files to /kaggle/temp/, but they won't be saved outside of the current session"
   ]
  },
  {
   "cell_type": "markdown",
   "metadata": {
    "id": "AYsKygirDHXw"
   },
   "source": [
    "# Load and explore the data\n",
    "#### The data is available at this source, and you can learn more about how and why this dataset is created from this paper.\n",
    "Data source: https://www.kaggle.com/praveengovi/emotions-dataset-for-nlp "
   ]
  },
  {
   "cell_type": "code",
   "execution_count": 4,
   "metadata": {
    "colab": {
     "base_uri": "https://localhost:8080/"
    },
    "execution": {
     "iopub.execute_input": "2021-11-18T18:23:56.077921Z",
     "iopub.status.busy": "2021-11-18T18:23:56.077676Z",
     "iopub.status.idle": "2021-11-18T18:23:56.138524Z",
     "shell.execute_reply": "2021-11-18T18:23:56.137667Z",
     "shell.execute_reply.started": "2021-11-18T18:23:56.077890Z"
    },
    "id": "-cLXFN-aVGAv",
    "outputId": "09abef78-c354-432e-c3cb-878daf3ae89c"
   },
   "outputs": [
    {
     "name": "stdout",
     "output_type": "stream",
     "text": [
      "Total data: (20000, 2)\n"
     ]
    }
   ],
   "source": [
    "train_data = pd.read_csv('train.txt',names=['sentence','emotion'],header=None, sep=';')\n",
    "test_data = pd.read_csv('test.txt',names=['sentence','emotion'],header=None, sep=';')\n",
    "val_data= pd.read_csv('val.txt',names=['sentence','emotion'],header=None, sep=';')\n",
    "df = pd.concat([train_data,test_data, val_data])\n",
    "print('Total data:',df.shape)"
   ]
  },
  {
   "cell_type": "code",
   "execution_count": 5,
   "metadata": {
    "colab": {
     "base_uri": "https://localhost:8080/"
    },
    "execution": {
     "iopub.execute_input": "2021-11-18T18:23:56.140249Z",
     "iopub.status.busy": "2021-11-18T18:23:56.140002Z",
     "iopub.status.idle": "2021-11-18T18:23:56.154454Z",
     "shell.execute_reply": "2021-11-18T18:23:56.153835Z",
     "shell.execute_reply.started": "2021-11-18T18:23:56.140220Z"
    },
    "id": "K-Rc1a0xPAbz",
    "outputId": "39b47ebc-beb5-4f79-ce45-9a0ac2cbc90d"
   },
   "outputs": [
    {
     "data": {
      "text/plain": [
       "sentence    0\n",
       "emotion     0\n",
       "dtype: int64"
      ]
     },
     "execution_count": 5,
     "metadata": {},
     "output_type": "execute_result"
    }
   ],
   "source": [
    "# Null Check\n",
    "train_data.isnull().sum()\n",
    "test_data.isnull().sum()\n",
    "val_data.isnull().sum()"
   ]
  },
  {
   "cell_type": "code",
   "execution_count": 6,
   "metadata": {
    "colab": {
     "base_uri": "https://localhost:8080/"
    },
    "execution": {
     "iopub.execute_input": "2021-11-18T18:23:56.156213Z",
     "iopub.status.busy": "2021-11-18T18:23:56.156004Z",
     "iopub.status.idle": "2021-11-18T18:23:56.178818Z",
     "shell.execute_reply": "2021-11-18T18:23:56.177921Z",
     "shell.execute_reply.started": "2021-11-18T18:23:56.156187Z"
    },
    "id": "geUnupErPFz2",
    "outputId": "421f144f-aff1-478b-cbed-0f33c4e7121f"
   },
   "outputs": [
    {
     "data": {
      "text/plain": [
       "(19999, 2)"
      ]
     },
     "execution_count": 6,
     "metadata": {},
     "output_type": "execute_result"
    }
   ],
   "source": [
    "df = df.drop_duplicates(keep=\"first\") # Drop duplicated data and reindex the data\n",
    "df_reidx = df.reset_index(drop=True)\n",
    "df_reidx.shape"
   ]
  },
  {
   "cell_type": "code",
   "execution_count": 7,
   "metadata": {
    "execution": {
     "iopub.execute_input": "2021-11-18T18:23:56.181161Z",
     "iopub.status.busy": "2021-11-18T18:23:56.180922Z",
     "iopub.status.idle": "2021-11-18T18:23:56.200630Z",
     "shell.execute_reply": "2021-11-18T18:23:56.199390Z",
     "shell.execute_reply.started": "2021-11-18T18:23:56.181132Z"
    },
    "id": "K_Z9aL_vm5f9"
   },
   "outputs": [],
   "source": [
    "# convert the emotions to binary labels. love and joy emotions are \"not-stressed ==1\", and sadness, anger, fear, and surprise are \"stressed == 0\".\n",
    "df_reidx['label']=df_reidx['emotion'].replace({'joy': \"not-stressed\" , 'love': \"not-stressed\",'surprise': \"medium-stressed\" ,\n",
    "                                   'sadness': \"stressed\", 'anger': \"stressed\", 'fear': \"stressed\"})"
   ]
  },
  {
   "cell_type": "code",
   "execution_count": 8,
   "metadata": {
    "colab": {
     "base_uri": "https://localhost:8080/"
    },
    "execution": {
     "iopub.execute_input": "2021-11-18T18:23:56.202277Z",
     "iopub.status.busy": "2021-11-18T18:23:56.201909Z",
     "iopub.status.idle": "2021-11-18T18:23:56.211908Z",
     "shell.execute_reply": "2021-11-18T18:23:56.211159Z",
     "shell.execute_reply.started": "2021-11-18T18:23:56.202248Z"
    },
    "id": "jqlwmw4XbpjL",
    "outputId": "19ccd41f-44e5-428c-8dc1-290262625c97"
   },
   "outputs": [
    {
     "data": {
      "text/plain": [
       "stressed           10879\n",
       "not-stressed        8401\n",
       "medium-stressed      719\n",
       "Name: label, dtype: int64"
      ]
     },
     "execution_count": 8,
     "metadata": {},
     "output_type": "execute_result"
    }
   ],
   "source": [
    "# check if pos and neg sentiments\n",
    "df_reidx.label.value_counts()"
   ]
  },
  {
   "cell_type": "code",
   "execution_count": 9,
   "metadata": {
    "colab": {
     "base_uri": "https://localhost:8080/"
    },
    "execution": {
     "iopub.execute_input": "2021-11-18T18:23:56.214017Z",
     "iopub.status.busy": "2021-11-18T18:23:56.213358Z",
     "iopub.status.idle": "2021-11-18T18:23:56.248331Z",
     "shell.execute_reply": "2021-11-18T18:23:56.247679Z",
     "shell.execute_reply.started": "2021-11-18T18:23:56.213967Z"
    },
    "id": "YjHjxw4LdIsg",
    "outputId": "dd471b65-522d-4cc4-c413-9d0fcd596a68"
   },
   "outputs": [
    {
     "data": {
      "text/plain": [
       "count    19999.000000\n",
       "mean        96.671784\n",
       "std         55.778779\n",
       "min          7.000000\n",
       "25%         53.000000\n",
       "50%         86.000000\n",
       "75%        129.000000\n",
       "max        300.000000\n",
       "Name: length, dtype: float64"
      ]
     },
     "execution_count": 9,
     "metadata": {},
     "output_type": "execute_result"
    }
   ],
   "source": [
    "df_reidx['length'] = df_reidx['sentence'].apply(len) # number of characters\n",
    "df_reidx['length'].describe() # info()"
   ]
  },
  {
   "cell_type": "code",
   "execution_count": 10,
   "metadata": {
    "colab": {
     "base_uri": "https://localhost:8080/",
     "height": 206
    },
    "execution": {
     "iopub.execute_input": "2021-11-18T18:23:56.250121Z",
     "iopub.status.busy": "2021-11-18T18:23:56.249297Z",
     "iopub.status.idle": "2021-11-18T18:23:56.260505Z",
     "shell.execute_reply": "2021-11-18T18:23:56.259546Z",
     "shell.execute_reply.started": "2021-11-18T18:23:56.250076Z"
    },
    "id": "zFlicA05VGAy",
    "outputId": "6ce91985-1edb-4b9e-ef6a-22fb432ce564"
   },
   "outputs": [
    {
     "data": {
      "text/html": [
       "<div>\n",
       "<style scoped>\n",
       "    .dataframe tbody tr th:only-of-type {\n",
       "        vertical-align: middle;\n",
       "    }\n",
       "\n",
       "    .dataframe tbody tr th {\n",
       "        vertical-align: top;\n",
       "    }\n",
       "\n",
       "    .dataframe thead th {\n",
       "        text-align: right;\n",
       "    }\n",
       "</style>\n",
       "<table border=\"1\" class=\"dataframe\">\n",
       "  <thead>\n",
       "    <tr style=\"text-align: right;\">\n",
       "      <th></th>\n",
       "      <th>sentence</th>\n",
       "      <th>emotion</th>\n",
       "      <th>label</th>\n",
       "      <th>length</th>\n",
       "    </tr>\n",
       "  </thead>\n",
       "  <tbody>\n",
       "    <tr>\n",
       "      <th>19994</th>\n",
       "      <td>im having ssa examination tomorrow in the morn...</td>\n",
       "      <td>sadness</td>\n",
       "      <td>stressed</td>\n",
       "      <td>191</td>\n",
       "    </tr>\n",
       "    <tr>\n",
       "      <th>19995</th>\n",
       "      <td>i constantly worry about their fight against n...</td>\n",
       "      <td>joy</td>\n",
       "      <td>not-stressed</td>\n",
       "      <td>173</td>\n",
       "    </tr>\n",
       "    <tr>\n",
       "      <th>19996</th>\n",
       "      <td>i feel its important to share this info for th...</td>\n",
       "      <td>joy</td>\n",
       "      <td>not-stressed</td>\n",
       "      <td>80</td>\n",
       "    </tr>\n",
       "    <tr>\n",
       "      <th>19997</th>\n",
       "      <td>i truly feel that if you are passionate enough...</td>\n",
       "      <td>joy</td>\n",
       "      <td>not-stressed</td>\n",
       "      <td>105</td>\n",
       "    </tr>\n",
       "    <tr>\n",
       "      <th>19998</th>\n",
       "      <td>i feel like i just wanna buy any cute make up ...</td>\n",
       "      <td>joy</td>\n",
       "      <td>not-stressed</td>\n",
       "      <td>74</td>\n",
       "    </tr>\n",
       "  </tbody>\n",
       "</table>\n",
       "</div>"
      ],
      "text/plain": [
       "                                                sentence  emotion  \\\n",
       "19994  im having ssa examination tomorrow in the morn...  sadness   \n",
       "19995  i constantly worry about their fight against n...      joy   \n",
       "19996  i feel its important to share this info for th...      joy   \n",
       "19997  i truly feel that if you are passionate enough...      joy   \n",
       "19998  i feel like i just wanna buy any cute make up ...      joy   \n",
       "\n",
       "              label  length  \n",
       "19994      stressed     191  \n",
       "19995  not-stressed     173  \n",
       "19996  not-stressed      80  \n",
       "19997  not-stressed     105  \n",
       "19998  not-stressed      74  "
      ]
     },
     "execution_count": 10,
     "metadata": {},
     "output_type": "execute_result"
    }
   ],
   "source": [
    "df_reidx.tail()"
   ]
  },
  {
   "cell_type": "markdown",
   "metadata": {
    "id": "KptVLKp2dtfr"
   },
   "source": [
    "# Text Preprocessing\n",
    "#### To clean the sentences,we do text preprocessing."
   ]
  },
  {
   "cell_type": "markdown",
   "metadata": {
    "id": "UX36yQrhd35L"
   },
   "source": [
    "*   Decontracted\n",
    "*   Data cleaning\n",
    "Additionally,\n",
    "*   Spell check\n",
    "*   Lemmatization\n",
    "*   Nomalization\n",
    "\n",
    "\n",
    "\n"
   ]
  },
  {
   "cell_type": "code",
   "execution_count": 11,
   "metadata": {
    "colab": {
     "base_uri": "https://localhost:8080/",
     "height": 223
    },
    "execution": {
     "iopub.execute_input": "2021-11-18T18:23:56.263088Z",
     "iopub.status.busy": "2021-11-18T18:23:56.262448Z",
     "iopub.status.idle": "2021-11-18T18:24:02.378316Z",
     "shell.execute_reply": "2021-11-18T18:24:02.377378Z",
     "shell.execute_reply.started": "2021-11-18T18:23:56.263042Z"
    },
    "id": "RTfGwvFpes_X",
    "outputId": "7541aa0a-5a6f-4805-e550-af3c6fc0bb8f"
   },
   "outputs": [
    {
     "name": "stderr",
     "output_type": "stream",
     "text": [
      "100%|██████████| 19999/19999 [00:03<00:00, 5123.98it/s]\n"
     ]
    },
    {
     "data": {
      "text/html": [
       "<div>\n",
       "<style scoped>\n",
       "    .dataframe tbody tr th:only-of-type {\n",
       "        vertical-align: middle;\n",
       "    }\n",
       "\n",
       "    .dataframe tbody tr th {\n",
       "        vertical-align: top;\n",
       "    }\n",
       "\n",
       "    .dataframe thead th {\n",
       "        text-align: right;\n",
       "    }\n",
       "</style>\n",
       "<table border=\"1\" class=\"dataframe\">\n",
       "  <thead>\n",
       "    <tr style=\"text-align: right;\">\n",
       "      <th></th>\n",
       "      <th>sentence</th>\n",
       "      <th>emotion</th>\n",
       "      <th>label</th>\n",
       "      <th>length</th>\n",
       "      <th>cleaned_sentence</th>\n",
       "    </tr>\n",
       "  </thead>\n",
       "  <tbody>\n",
       "    <tr>\n",
       "      <th>0</th>\n",
       "      <td>i didnt feel humiliated</td>\n",
       "      <td>sadness</td>\n",
       "      <td>stressed</td>\n",
       "      <td>23</td>\n",
       "      <td>i did not feel humiliated</td>\n",
       "    </tr>\n",
       "    <tr>\n",
       "      <th>1</th>\n",
       "      <td>i can go from feeling so hopeless to so damned...</td>\n",
       "      <td>sadness</td>\n",
       "      <td>stressed</td>\n",
       "      <td>108</td>\n",
       "      <td>i can go from feeling so hopeless to so damned...</td>\n",
       "    </tr>\n",
       "    <tr>\n",
       "      <th>2</th>\n",
       "      <td>im grabbing a minute to post i feel greedy wrong</td>\n",
       "      <td>anger</td>\n",
       "      <td>stressed</td>\n",
       "      <td>48</td>\n",
       "      <td>i am grabbing a minute to post i feel greedy w...</td>\n",
       "    </tr>\n",
       "    <tr>\n",
       "      <th>3</th>\n",
       "      <td>i am ever feeling nostalgic about the fireplac...</td>\n",
       "      <td>love</td>\n",
       "      <td>not-stressed</td>\n",
       "      <td>92</td>\n",
       "      <td>i am ever feeling nostalgic about the fireplac...</td>\n",
       "    </tr>\n",
       "    <tr>\n",
       "      <th>4</th>\n",
       "      <td>i am feeling grouchy</td>\n",
       "      <td>anger</td>\n",
       "      <td>stressed</td>\n",
       "      <td>20</td>\n",
       "      <td>i am feeling grouchy</td>\n",
       "    </tr>\n",
       "  </tbody>\n",
       "</table>\n",
       "</div>"
      ],
      "text/plain": [
       "                                            sentence  emotion         label  \\\n",
       "0                            i didnt feel humiliated  sadness      stressed   \n",
       "1  i can go from feeling so hopeless to so damned...  sadness      stressed   \n",
       "2   im grabbing a minute to post i feel greedy wrong    anger      stressed   \n",
       "3  i am ever feeling nostalgic about the fireplac...     love  not-stressed   \n",
       "4                               i am feeling grouchy    anger      stressed   \n",
       "\n",
       "   length                                   cleaned_sentence  \n",
       "0      23                          i did not feel humiliated  \n",
       "1     108  i can go from feeling so hopeless to so damned...  \n",
       "2      48  i am grabbing a minute to post i feel greedy w...  \n",
       "3      92  i am ever feeling nostalgic about the fireplac...  \n",
       "4      20                               i am feeling grouchy  "
      ]
     },
     "execution_count": 11,
     "metadata": {},
     "output_type": "execute_result"
    }
   ],
   "source": [
    "from tqdm import tqdm\n",
    "import re\n",
    "from bs4 import BeautifulSoup\n",
    "from nltk.stem import PorterStemmer\n",
    "from nltk.stem import WordNetLemmatizer\n",
    "\n",
    "def decontracted(phrase):\n",
    "    \"\"\"\n",
    "    We first define a function to expand the contracted phrase into normal words\n",
    "    \"\"\"\n",
    "    # specific\n",
    "    phrase = re.sub(r\"wont\", \"will not\", phrase)\n",
    "    phrase = re.sub(r\"wouldnt\", \"would not\", phrase)\n",
    "    phrase = re.sub(r\"shouldnt\", \"should not\", phrase)\n",
    "    phrase = re.sub(r\"couldnt\", \"could not\", phrase)\n",
    "    phrase = re.sub(r\"cudnt\", \"could not\", phrase)\n",
    "    phrase = re.sub(r\"cant\", \"can not\", phrase)\n",
    "    phrase = re.sub(r\"dont\", \"do not\", phrase)\n",
    "    phrase = re.sub(r\"doesnt\", \"does not\", phrase)\n",
    "    phrase = re.sub(r\"didnt\", \"did not\", phrase)\n",
    "    phrase = re.sub(r\"wasnt\", \"was not\", phrase)\n",
    "    phrase = re.sub(r\"werent\", \"were not\", phrase)\n",
    "    phrase = re.sub(r\"havent\", \"have not\", phrase)\n",
    "    phrase = re.sub(r\"hadnt\", \"had not\", phrase)\n",
    "\n",
    "    # general\n",
    "    phrase = re.sub(r\"n\\ t\", \" not\", phrase)\n",
    "    #phrase = re.sub(r\"\\re\", \" are\", phrase)\n",
    "    phrase = re.sub(r\"\\ s \", \" is \", phrase) # prime \n",
    "    phrase = re.sub(r\"\\ d \", \" would \", phrase)\n",
    "    phrase = re.sub(r\"\\ ll \", \" will \", phrase)\n",
    "    phrase = re.sub(r\"\\dunno\", \"do not \", phrase)\n",
    "    phrase = re.sub(r\"ive \", \"i have \", phrase)\n",
    "    phrase = re.sub(r\"im \", \"i am \", phrase)\n",
    "    phrase = re.sub(r\"i m \", \"i am \", phrase)\n",
    "    phrase = re.sub(r\" w \", \" with \", phrase)\n",
    "    \n",
    "    return phrase\n",
    "\n",
    "    \n",
    "def clean_text(df):\n",
    "    \"\"\"\n",
    "    Clean the review texts\n",
    "    \"\"\"\n",
    "    cleaned_review = []\n",
    "\n",
    "    for review_text in tqdm(df['sentence']):\n",
    "        \n",
    "        # expand the contracted words\n",
    "        review_text = decontracted(review_text)\n",
    "        #remove html tags\n",
    "        review_text = BeautifulSoup(review_text, 'lxml').get_text().strip() # re.sub(r'<.*?>', '', text)\n",
    "        \n",
    "        #remove non-alphabetic characters\n",
    "        review_text = re.sub(\"[^a-zA-Z]\",\" \", review_text)\n",
    "    \n",
    "        #remove url \n",
    "        review_text = re.sub(r'https?://\\S+|www\\.\\S+', '', review_text)\n",
    "        \n",
    "        #Removing punctutation, string.punctuation in python consists of !\"#$%&\\'()*+,-./:;<=>?@[\\\\]^_{|}~`\n",
    "        review_text = review_text.translate(str.maketrans('', '', string.punctuation))\n",
    "        # ''.join([char for char in movie_text_data if char not in string.punctuation])\n",
    "        \n",
    "        # remove emails\n",
    "        review_text = re.sub(r\"(^[a-zA-Z0-9_.+-]+@[a-zA-Z0-9-]+\\.[a-zA-Z0-9-.]+$)\", '', review_text)\n",
    "    \n",
    "        cleaned_review.append(review_text)\n",
    "\n",
    "    return cleaned_review  \n",
    "\n",
    "df_reidx['cleaned_sentence'] = clean_text(df_reidx)\n",
    "df_reidx.head()  "
   ]
  },
  {
   "cell_type": "markdown",
   "metadata": {
    "id": "NWRKxc1vECx0"
   },
   "source": [
    "###### additional lemmatization"
   ]
  },
  {
   "cell_type": "code",
   "execution_count": 12,
   "metadata": {
    "colab": {
     "base_uri": "https://localhost:8080/",
     "height": 258
    },
    "execution": {
     "iopub.execute_input": "2021-11-18T18:24:02.379853Z",
     "iopub.status.busy": "2021-11-18T18:24:02.379581Z",
     "iopub.status.idle": "2021-11-18T18:24:07.923672Z",
     "shell.execute_reply": "2021-11-18T18:24:07.922661Z",
     "shell.execute_reply.started": "2021-11-18T18:24:02.379819Z"
    },
    "id": "sNgR75EbVGA1",
    "outputId": "92f6d1c5-c492-4342-b3ff-2eb4661cedcf"
   },
   "outputs": [
    {
     "name": "stderr",
     "output_type": "stream",
     "text": [
      "[nltk_data] Downloading package punkt to\n",
      "[nltk_data]     /Users/ayushgupta/nltk_data...\n",
      "[nltk_data]   Unzipping tokenizers/punkt.zip.\n",
      "100%|██████████| 19999/19999 [00:02<00:00, 7671.37it/s]\n"
     ]
    },
    {
     "data": {
      "text/html": [
       "<div>\n",
       "<style scoped>\n",
       "    .dataframe tbody tr th:only-of-type {\n",
       "        vertical-align: middle;\n",
       "    }\n",
       "\n",
       "    .dataframe tbody tr th {\n",
       "        vertical-align: top;\n",
       "    }\n",
       "\n",
       "    .dataframe thead th {\n",
       "        text-align: right;\n",
       "    }\n",
       "</style>\n",
       "<table border=\"1\" class=\"dataframe\">\n",
       "  <thead>\n",
       "    <tr style=\"text-align: right;\">\n",
       "      <th></th>\n",
       "      <th>sentence</th>\n",
       "      <th>emotion</th>\n",
       "      <th>label</th>\n",
       "      <th>length</th>\n",
       "      <th>cleaned_sentence</th>\n",
       "    </tr>\n",
       "  </thead>\n",
       "  <tbody>\n",
       "    <tr>\n",
       "      <th>0</th>\n",
       "      <td>i didnt feel humiliated</td>\n",
       "      <td>sadness</td>\n",
       "      <td>stressed</td>\n",
       "      <td>23</td>\n",
       "      <td>[feel, humiliated]</td>\n",
       "    </tr>\n",
       "    <tr>\n",
       "      <th>1</th>\n",
       "      <td>i can go from feeling so hopeless to so damned...</td>\n",
       "      <td>sadness</td>\n",
       "      <td>stressed</td>\n",
       "      <td>108</td>\n",
       "      <td>[go, feeling, hopeless, damned, hopeful, aroun...</td>\n",
       "    </tr>\n",
       "    <tr>\n",
       "      <th>2</th>\n",
       "      <td>im grabbing a minute to post i feel greedy wrong</td>\n",
       "      <td>anger</td>\n",
       "      <td>stressed</td>\n",
       "      <td>48</td>\n",
       "      <td>[grabbing, minute, post, feel, greedy, wrong]</td>\n",
       "    </tr>\n",
       "    <tr>\n",
       "      <th>3</th>\n",
       "      <td>i am ever feeling nostalgic about the fireplac...</td>\n",
       "      <td>love</td>\n",
       "      <td>not-stressed</td>\n",
       "      <td>92</td>\n",
       "      <td>[ever, feeling, nostalgic, fireplace, know, st...</td>\n",
       "    </tr>\n",
       "    <tr>\n",
       "      <th>4</th>\n",
       "      <td>i am feeling grouchy</td>\n",
       "      <td>anger</td>\n",
       "      <td>stressed</td>\n",
       "      <td>20</td>\n",
       "      <td>[feeling, grouchy]</td>\n",
       "    </tr>\n",
       "  </tbody>\n",
       "</table>\n",
       "</div>"
      ],
      "text/plain": [
       "                                            sentence  emotion         label  \\\n",
       "0                            i didnt feel humiliated  sadness      stressed   \n",
       "1  i can go from feeling so hopeless to so damned...  sadness      stressed   \n",
       "2   im grabbing a minute to post i feel greedy wrong    anger      stressed   \n",
       "3  i am ever feeling nostalgic about the fireplac...     love  not-stressed   \n",
       "4                               i am feeling grouchy    anger      stressed   \n",
       "\n",
       "   length                                   cleaned_sentence  \n",
       "0      23                                 [feel, humiliated]  \n",
       "1     108  [go, feeling, hopeless, damned, hopeful, aroun...  \n",
       "2      48      [grabbing, minute, post, feel, greedy, wrong]  \n",
       "3      92  [ever, feeling, nostalgic, fireplace, know, st...  \n",
       "4      20                                 [feeling, grouchy]  "
      ]
     },
     "execution_count": 12,
     "metadata": {},
     "output_type": "execute_result"
    }
   ],
   "source": [
    "import nltk\n",
    "nltk.download('punkt')\n",
    "def remove_stopwords(phrase):\n",
    "    remove_sw = []\n",
    "    tokenizer = RegexpTokenizer(r'[a-zA-Z0-9]+')\n",
    "    stop_words = stopwords.words('english')\n",
    "    \n",
    "    for review_text in tqdm(phrase):\n",
    "        tokens = word_tokenize(review_text)\n",
    "        tokens = [word for word in tokens if not word in stop_words]\n",
    "        remove_sw.append(tokens)\n",
    "    return remove_sw\n",
    "\n",
    "df_reidx['cleaned_sentence'] = remove_stopwords(df_reidx['cleaned_sentence'])\n",
    "df_reidx.head()"
   ]
  },
  {
   "cell_type": "code",
   "execution_count": 13,
   "metadata": {
    "colab": {
     "base_uri": "https://localhost:8080/"
    },
    "execution": {
     "iopub.execute_input": "2021-11-18T18:24:07.925313Z",
     "iopub.status.busy": "2021-11-18T18:24:07.924974Z",
     "iopub.status.idle": "2021-11-18T18:24:14.241881Z",
     "shell.execute_reply": "2021-11-18T18:24:14.240825Z",
     "shell.execute_reply.started": "2021-11-18T18:24:07.925281Z"
    },
    "id": "UdFbKacIgGU_",
    "outputId": "fc0941d7-703a-4fef-c753-40a1092f5dea"
   },
   "outputs": [
    {
     "name": "stderr",
     "output_type": "stream",
     "text": [
      "100%|██████████| 19999/19999 [00:03<00:00, 6349.87it/s]\n"
     ]
    },
    {
     "data": {
      "text/plain": [
       "0                                       [feel, humili]\n",
       "1    [go, feel, hopeless, damn, hope, around, someo...\n",
       "2             [grab, minut, post, feel, greedi, wrong]\n",
       "3    [ever, feel, nostalg, fireplac, know, still, n...\n",
       "4                                      [feel, grouchi]\n",
       "Name: cleaned_sentence, dtype: object"
      ]
     },
     "execution_count": 13,
     "metadata": {},
     "output_type": "execute_result"
    }
   ],
   "source": [
    "#stemming for extract the actual meaning of the words\n",
    "from nltk.stem import PorterStemmer\n",
    "\n",
    "def stemming(phrase):\n",
    "    stemmer = PorterStemmer()\n",
    "    stem_output=[]\n",
    "    stemmed=[]\n",
    "    for review_text in tqdm(phrase):\n",
    "        stemmed = [stemmer.stem(word) for word in review_text]\n",
    "        stem_output.append(stemmed)\n",
    "    return stem_output\n",
    "\n",
    "df_reidx['cleaned_sentence'] = stemming(df_reidx['cleaned_sentence'])\n",
    "df_reidx['cleaned_sentence'].head()"
   ]
  },
  {
   "cell_type": "code",
   "execution_count": 14,
   "metadata": {
    "colab": {
     "base_uri": "https://localhost:8080/"
    },
    "execution": {
     "iopub.execute_input": "2021-11-18T18:24:14.243757Z",
     "iopub.status.busy": "2021-11-18T18:24:14.243398Z",
     "iopub.status.idle": "2021-11-18T18:24:14.294784Z",
     "shell.execute_reply": "2021-11-18T18:24:14.293755Z",
     "shell.execute_reply.started": "2021-11-18T18:24:14.243711Z"
    },
    "id": "zDHtFBENVGA1",
    "outputId": "ba1b8c55-704b-4fa3-ca62-ef88b9b555d7"
   },
   "outputs": [
    {
     "name": "stderr",
     "output_type": "stream",
     "text": [
      "100%|██████████| 19999/19999 [00:00<00:00, 1508531.35it/s]\n"
     ]
    },
    {
     "data": {
      "text/plain": [
       "0                                          feel humili\n",
       "1    go feel hopeless damn hope around someon care ...\n",
       "2                    grab minut post feel greedi wrong\n",
       "3    ever feel nostalg fireplac know still noth pro...\n",
       "4                                         feel grouchi\n",
       "Name: cleaned_sentence, dtype: object"
      ]
     },
     "execution_count": 14,
     "metadata": {},
     "output_type": "execute_result"
    }
   ],
   "source": [
    "def to_sentence(phrase):\n",
    "    sentence=[]\n",
    "    for words in tqdm(phrase):\n",
    "        sentence.append((\" \").join(words))\n",
    "    return sentence\n",
    "df_reidx['cleaned_sentence']=to_sentence(df_reidx['cleaned_sentence'])\n",
    "df_reidx['cleaned_sentence'].head()"
   ]
  },
  {
   "cell_type": "markdown",
   "metadata": {
    "id": "tt6Tbl3xlBhE"
   },
   "source": [
    "# Feature Engineering"
   ]
  },
  {
   "cell_type": "markdown",
   "metadata": {
    "id": "Ln-1lwjhlfS7"
   },
   "source": [
    "### CounterVectorize: tokenization: "
   ]
  },
  {
   "cell_type": "code",
   "execution_count": 15,
   "metadata": {
    "colab": {
     "base_uri": "https://localhost:8080/"
    },
    "execution": {
     "iopub.execute_input": "2021-11-18T18:24:14.296530Z",
     "iopub.status.busy": "2021-11-18T18:24:14.296226Z",
     "iopub.status.idle": "2021-11-18T18:24:14.633662Z",
     "shell.execute_reply": "2021-11-18T18:24:14.633004Z",
     "shell.execute_reply.started": "2021-11-18T18:24:14.296489Z"
    },
    "id": "jT3nRcj9v-mL",
    "outputId": "e8c4a3bd-a29f-49f3-9d0c-e9f37bab5d62"
   },
   "outputs": [
    {
     "name": "stdout",
     "output_type": "stream",
     "text": [
      "X.shape :  (19999, 4374)\n",
      "y.shape :  (19999,)\n"
     ]
    }
   ],
   "source": [
    "# convert the cleaned sentences to vectors\n",
    "token = RegexpTokenizer(r'[a-zA-Z0-9]+')\n",
    "# a built-in stop word list for english is used\n",
    "# all values of n such than min_n<=n<= max_n will be used. (1,1): only unigrams, (1,2):uni&bigram, (2,2): only bigrams\n",
    "# max_df: when building the vocabulary, ignore terms that have a document frequency strictly higher than the given threshold.\n",
    "# min_df: ignore terms that have a document frequency strictly lower than the given threshold.\n",
    "\n",
    "vectorizer = CountVectorizer(stop_words='english', max_df=0.5, min_df=3, ngram_range=(1,1),tokenizer = token.tokenize)\n",
    "x = vectorizer.fit_transform(df_reidx.cleaned_sentence)\n",
    "y = df_reidx.label.values\n",
    "\n",
    "print(\"X.shape : \",x.shape)\n",
    "print(\"y.shape : \",y.shape)"
   ]
  },
  {
   "cell_type": "markdown",
   "metadata": {
    "id": "l1kNPsDNm_f4"
   },
   "source": [
    "# Train Test split\n",
    "\n",
    "```\n",
    "# This is formatted as code\n",
    "```\n",
    "\n"
   ]
  },
  {
   "cell_type": "code",
   "execution_count": 18,
   "metadata": {
    "colab": {
     "base_uri": "https://localhost:8080/"
    },
    "execution": {
     "iopub.execute_input": "2021-11-18T18:24:14.637625Z",
     "iopub.status.busy": "2021-11-18T18:24:14.636715Z",
     "iopub.status.idle": "2021-11-18T18:24:14.648637Z",
     "shell.execute_reply": "2021-11-18T18:24:14.647971Z",
     "shell.execute_reply.started": "2021-11-18T18:24:14.637563Z"
    },
    "id": "OqtP1s3WnOEj",
    "outputId": "b7cf7a94-54ca-466e-ad18-b4687ad75438"
   },
   "outputs": [
    {
     "name": "stdout",
     "output_type": "stream",
     "text": [
      "Number of training examples:15999\n",
      "Number of testing examples:4000\n",
      "\n",
      "Training data: X_train : (15999, 4374), y_train : (15999,)\n",
      "Testing data: X_test : (4000, 4374), y_test : (4000,)\n"
     ]
    }
   ],
   "source": [
    "# do shuffle to make neg and pos data of data set split equaly in the test and training set\n",
    "# do random_sate for making it settle when we run this code repeatedly\n",
    "train_idx, test_idx = train_test_split(np.arange(df_reidx.shape[0]), test_size=0.2,shuffle=True, random_state=42)\n",
    "\n",
    "x_train = x[train_idx]\n",
    "y_train = y[train_idx]\n",
    "\n",
    "x_test = x[test_idx]\n",
    "y_test = y[test_idx]\n",
    "print(\"Number of training examples:{}\".format(len(train_idx)))\n",
    "print(\"Number of testing examples:{}\\n\".format(len(test_idx)))\n",
    "print(\"Training data: X_train : {}, y_train : {}\".format(x_train.shape, y_train.shape))\n",
    "print(\"Testing data: X_test : {}, y_test : {}\".format(x_test.shape, y_test.shape))\n"
   ]
  },
  {
   "cell_type": "code",
   "execution_count": 19,
   "metadata": {
    "colab": {
     "base_uri": "https://localhost:8080/"
    },
    "execution": {
     "iopub.execute_input": "2021-11-18T18:24:14.650263Z",
     "iopub.status.busy": "2021-11-18T18:24:14.649523Z",
     "iopub.status.idle": "2021-11-18T18:24:14.660256Z",
     "shell.execute_reply": "2021-11-18T18:24:14.659728Z",
     "shell.execute_reply.started": "2021-11-18T18:24:14.650215Z"
    },
    "id": "v1YE9wUuVGA3",
    "outputId": "48a0ee5c-c576-4d64-e984-da6be0e7c549"
   },
   "outputs": [
    {
     "data": {
      "text/plain": [
       "(15999, 4374)"
      ]
     },
     "execution_count": 19,
     "metadata": {},
     "output_type": "execute_result"
    }
   ],
   "source": [
    "x_train.shape"
   ]
  },
  {
   "cell_type": "markdown",
   "metadata": {
    "id": "m1fK2NLdzysQ"
   },
   "source": [
    "# Model Training"
   ]
  },
  {
   "cell_type": "markdown",
   "metadata": {
    "id": "Dwtb2azVm2U8"
   },
   "source": [
    "#### Logistic Regression"
   ]
  },
  {
   "cell_type": "code",
   "execution_count": 20,
   "metadata": {
    "colab": {
     "base_uri": "https://localhost:8080/",
     "height": 522
    },
    "execution": {
     "iopub.execute_input": "2021-11-18T18:24:14.661670Z",
     "iopub.status.busy": "2021-11-18T18:24:14.661308Z",
     "iopub.status.idle": "2021-11-18T18:24:14.966958Z",
     "shell.execute_reply": "2021-11-18T18:24:14.966024Z",
     "shell.execute_reply.started": "2021-11-18T18:24:14.661626Z"
    },
    "id": "2gfpybeIm7NX",
    "outputId": "760a6d44-d3b4-4e1c-aad4-91e5a2239ff0"
   },
   "outputs": [
    {
     "name": "stdout",
     "output_type": "stream",
     "text": [
      "                 precision    recall  f1-score   support\n",
      "\n",
      "medium-stressed       0.69      0.72      0.70       153\n",
      "   not-stressed       0.94      0.94      0.94      1662\n",
      "       stressed       0.94      0.95      0.94      2185\n",
      "\n",
      "       accuracy                           0.93      4000\n",
      "      macro avg       0.86      0.87      0.86      4000\n",
      "   weighted avg       0.93      0.93      0.93      4000\n",
      "\n",
      "\n",
      "Accuracy for Logistic Regression model: 0.93225\n",
      "\n",
      "\n"
     ]
    },
    {
     "data": {
      "image/png": "[encoded data removed]",
      "text/plain": [
       "<Figure size 432x288 with 2 Axes>"
      ]
     },
     "metadata": {
      "needs_background": "light"
     },
     "output_type": "display_data"
    }
   ],
   "source": [
    "# fit a logistic regression classifier on the training data use default settings\n",
    "lr_clf = LogisticRegression()\n",
    "lr_clf.fit(x_train, y_train)\n",
    "\n",
    "# make prediction on testing data\n",
    "y_pred_test_lr = lr_clf.predict(x_test)\n",
    "y_predprob_lr = lr_clf.predict_proba(x_test)\n",
    "matrix_lr = confusion_matrix(y_test,y_pred_test_lr)\n",
    "print(classification_report(y_test, y_pred_test_lr))\n",
    "print(\"\\nAccuracy for Logistic Regression model:\",metrics.accuracy_score(y_test, y_pred_test_lr))\n",
    "print(\"\\n\")\n",
    "y_predict = lr_clf.predict(x_test)\n",
    "matrix_display = ConfusionMatrixDisplay(matrix_lr).plot()"
   ]
  },
  {
   "cell_type": "markdown",
   "metadata": {
    "id": "IdXsV5VK78nt"
   },
   "source": [
    "#### Naive Bayes classifier"
   ]
  },
  {
   "cell_type": "markdown",
   "metadata": {
    "id": "-nRFJAe3opBp"
   },
   "source": [
    "##### BernouliNB\n",
    "\n",
    "A binary algorithm used when the feature is present or not."
   ]
  },
  {
   "cell_type": "code",
   "execution_count": 21,
   "metadata": {
    "colab": {
     "base_uri": "https://localhost:8080/",
     "height": 522
    },
    "execution": {
     "iopub.execute_input": "2021-11-18T18:24:15.590224Z",
     "iopub.status.busy": "2021-11-18T18:24:15.590008Z",
     "iopub.status.idle": "2021-11-18T18:24:15.701697Z",
     "shell.execute_reply": "2021-11-18T18:24:15.700760Z",
     "shell.execute_reply.started": "2021-11-18T18:24:15.590197Z"
    },
    "id": "wLfvVX1_77P7",
    "outputId": "d5fe2643-811b-419b-f5ea-89922e7b8eaf"
   },
   "outputs": [
    {
     "name": "stdout",
     "output_type": "stream",
     "text": [
      "                 precision    recall  f1-score   support\n",
      "\n",
      "medium-stressed       0.17      0.10      0.12       153\n",
      "   not-stressed       0.90      0.89      0.90      1662\n",
      "       stressed       0.89      0.93      0.91      2185\n",
      "\n",
      "       accuracy                           0.88      4000\n",
      "      macro avg       0.65      0.64      0.64      4000\n",
      "   weighted avg       0.87      0.88      0.87      4000\n",
      "\n",
      "\n",
      "Accuracy for Bernouli Naive Bayes model: 0.88125\n",
      "\n",
      "\n"
     ]
    },
    {
     "data": {
      "image/png": "[encoded data removed]",
      "text/plain": [
       "<Figure size 432x288 with 2 Axes>"
      ]
     },
     "metadata": {
      "needs_background": "light"
     },
     "output_type": "display_data"
    }
   ],
   "source": [
    "from sklearn.naive_bayes import BernoulliNB\n",
    "nb_clf = BernoulliNB()\n",
    "nb_clf.fit(x_train, y_train)\n",
    "# make prediction on testing data\n",
    "y_pred_test_nb = nb_clf.predict(x_test)\n",
    "y_predprob_nb = nb_clf.predict_proba(x_test)\n",
    "matrix_nb = confusion_matrix(y_test,y_pred_test_nb)\n",
    "print(classification_report(y_test, y_pred_test_nb))\n",
    "print(\"\\nAccuracy for Bernouli Naive Bayes model:\",metrics.accuracy_score(y_test, y_pred_test_nb))\n",
    "print(\"\\n\")\n",
    "matrix_display = ConfusionMatrixDisplay(matrix_nb).plot()"
   ]
  },
  {
   "cell_type": "markdown",
   "metadata": {
    "id": "i_3y0arSokl1"
   },
   "source": [
    "##### MultinominaliNB\n",
    "\n",
    "It consider a feature vector where a given term represents the number of times it appears or very ofen, such as frequency."
   ]
  },
  {
   "cell_type": "code",
   "execution_count": 22,
   "metadata": {
    "colab": {
     "base_uri": "https://localhost:8080/",
     "height": 522
    },
    "execution": {
     "iopub.execute_input": "2021-11-18T18:24:16.265420Z",
     "iopub.status.busy": "2021-11-18T18:24:16.264584Z",
     "iopub.status.idle": "2021-11-18T18:24:16.377668Z",
     "shell.execute_reply": "2021-11-18T18:24:16.376751Z",
     "shell.execute_reply.started": "2021-11-18T18:24:16.265385Z"
    },
    "id": "0szXmLlOphy3",
    "outputId": "5157109d-c18f-4dc3-eda3-5b995fa17b5a"
   },
   "outputs": [
    {
     "name": "stdout",
     "output_type": "stream",
     "text": [
      "                 precision    recall  f1-score   support\n",
      "\n",
      "medium-stressed       0.57      0.34      0.42       153\n",
      "   not-stressed       0.91      0.90      0.91      1662\n",
      "       stressed       0.91      0.94      0.92      2185\n",
      "\n",
      "       accuracy                           0.90      4000\n",
      "      macro avg       0.79      0.73      0.75      4000\n",
      "   weighted avg       0.90      0.90      0.90      4000\n",
      "\n",
      "\n",
      "Accuracy for multinominal Naive Bayes model: 0.90175\n",
      "\n",
      "\n"
     ]
    },
    {
     "data": {
      "image/png": "[encoded data removed]",
      "text/plain": [
       "<Figure size 432x288 with 2 Axes>"
      ]
     },
     "metadata": {
      "needs_background": "light"
     },
     "output_type": "display_data"
    }
   ],
   "source": [
    "mnb = MultinomialNB()\n",
    "mnb.fit(x_train, y_train)\n",
    "# make prediction on testing data\n",
    "y_pred_test_mnb = mnb.predict(x_test)\n",
    "y_predprob_mnb = mnb.predict_proba(x_test)\n",
    "matrix = confusion_matrix(y_test,y_pred_test_mnb)\n",
    "print(classification_report(y_test, y_pred_test_mnb))\n",
    "print(\"\\nAccuracy for multinominal Naive Bayes model:\",metrics.accuracy_score(y_test, y_pred_test_mnb))\n",
    "print(\"\\n\")\n",
    "\n",
    "y_predict = mnb.predict(x_test)\n",
    "cm = confusion_matrix(y_test, y_predict)\n",
    "cm_display = ConfusionMatrixDisplay(cm).plot()"
   ]
  },
  {
   "cell_type": "markdown",
   "metadata": {
    "id": "rivuHvYu3FM-"
   },
   "source": [
    "# Cross validataion"
   ]
  },
  {
   "cell_type": "code",
   "execution_count": 23,
   "metadata": {
    "colab": {
     "base_uri": "https://localhost:8080/"
    },
    "execution": {
     "iopub.execute_input": "2021-11-18T18:24:16.975308Z",
     "iopub.status.busy": "2021-11-18T18:24:16.975011Z",
     "iopub.status.idle": "2021-11-18T18:24:17.253894Z",
     "shell.execute_reply": "2021-11-18T18:24:17.253263Z",
     "shell.execute_reply.started": "2021-11-18T18:24:16.975267Z"
    },
    "id": "kO0UOIPNnsaZ",
    "outputId": "d794388b-a5f6-47dc-df5d-57b56f50d2e7"
   },
   "outputs": [
    {
     "name": "stdout",
     "output_type": "stream",
     "text": [
      "Logistic Regression Model\n",
      "\n",
      "Accuracy: 93.23%\n",
      "Precision: 85.74%\n",
      "Recall: 86.64%\n",
      "F1 Score:  0.6438713690358201\n",
      "[[ 110   11   32]\n",
      " [  16 1554   92]\n",
      " [  34   86 2065]]\n"
     ]
    }
   ],
   "source": [
    "acc_score_lr = metrics.accuracy_score(y_pred_test_lr,y_test)\n",
    "prec_score_lr = precision_score(y_test,y_pred_test_lr, average='macro')\n",
    "recall_lr = recall_score(y_test, y_pred_test_lr,average='macro')\n",
    "f1_lr = f1_score(y_test,y_pred_test_nb,average='macro')\n",
    "matrix_lr = confusion_matrix(y_test,y_pred_test_lr)\n",
    "print('Logistic Regression Model\\n')\n",
    "print(str('Accuracy: '+'{:04.2f}'.format(acc_score_lr*100))+'%')\n",
    "print(str('Precision: '+'{:04.2f}'.format(prec_score_lr*100))+'%')\n",
    "print(str('Recall: '+'{:04.2f}'.format(recall_lr*100))+'%')\n",
    "print('F1 Score: ',f1_lr)\n",
    "print(matrix_lr)"
   ]
  },
  {
   "cell_type": "markdown",
   "metadata": {
    "id": "av7z4Hnzn_aw"
   },
   "source": [
    "##### BernouliNB"
   ]
  },
  {
   "cell_type": "code",
   "execution_count": 24,
   "metadata": {
    "colab": {
     "base_uri": "https://localhost:8080/"
    },
    "execution": {
     "iopub.execute_input": "2021-11-18T18:24:17.255407Z",
     "iopub.status.busy": "2021-11-18T18:24:17.254941Z",
     "iopub.status.idle": "2021-11-18T18:24:17.503550Z",
     "shell.execute_reply": "2021-11-18T18:24:17.502693Z",
     "shell.execute_reply.started": "2021-11-18T18:24:17.255371Z"
    },
    "id": "BL4jUTnHwQAA",
    "outputId": "ca56e7e8-0e7b-423a-9be6-9769e7395b69"
   },
   "outputs": [
    {
     "name": "stdout",
     "output_type": "stream",
     "text": [
      "Bernouli Naive Bayes Model\n",
      "\n",
      "Accuracy: 88.12%\n",
      "Precision: 65.50%\n",
      "Recall: 63.92%\n",
      "F1 Score:  0.6438713690358201\n",
      "[[  15   56   82]\n",
      " [  22 1481  159]\n",
      " [  52  104 2029]]\n"
     ]
    }
   ],
   "source": [
    "acc_score_nb = metrics.accuracy_score(y_pred_test_nb,y_test)\n",
    "prec_score_nb = precision_score(y_test,y_pred_test_nb, average='macro')\n",
    "recall_nb = recall_score(y_test, y_pred_test_nb,average='macro')\n",
    "f1_nb = f1_score(y_test,y_pred_test_nb,average='macro')\n",
    "matrix_nb = confusion_matrix(y_test,y_pred_test_nb)\n",
    "print('Bernouli Naive Bayes Model\\n')\n",
    "print(str('Accuracy: '+'{:04.2f}'.format(acc_score_nb*100))+'%')\n",
    "print(str('Precision: '+'{:04.2f}'.format(prec_score_nb*100))+'%')\n",
    "print(str('Recall: '+'{:04.2f}'.format(recall_nb*100))+'%')\n",
    "print('F1 Score: ',f1_nb)\n",
    "print(matrix_nb)"
   ]
  },
  {
   "cell_type": "markdown",
   "metadata": {
    "id": "0_SSgCmHoX3p"
   },
   "source": [
    "##### MultinominaliNB"
   ]
  },
  {
   "cell_type": "code",
   "execution_count": 25,
   "metadata": {
    "colab": {
     "base_uri": "https://localhost:8080/"
    },
    "execution": {
     "iopub.execute_input": "2021-11-18T18:24:17.505304Z",
     "iopub.status.busy": "2021-11-18T18:24:17.504978Z",
     "iopub.status.idle": "2021-11-18T18:24:17.762226Z",
     "shell.execute_reply": "2021-11-18T18:24:17.761314Z",
     "shell.execute_reply.started": "2021-11-18T18:24:17.505257Z"
    },
    "id": "nwGHeF5Xv60e",
    "outputId": "e502b3ca-2f09-4eed-be39-4b795257827b"
   },
   "outputs": [
    {
     "name": "stdout",
     "output_type": "stream",
     "text": [
      "Multimominal Naive Bayes Model\n",
      "\n",
      "Accuracy: 90.18%\n",
      "Precision: 79.49%\n",
      "Recall: 72.75%\n",
      "F1 Score:  0.7517856428803255\n",
      "[[  52   46   55]\n",
      " [  13 1498  151]\n",
      " [  27  101 2057]]\n"
     ]
    }
   ],
   "source": [
    "acc_score_mnb = metrics.accuracy_score(y_pred_test_mnb,y_test)\n",
    "prec_score_mnb = precision_score(y_test,y_pred_test_mnb, average='macro')\n",
    "recall_mnb = recall_score(y_test, y_pred_test_mnb,average='macro')\n",
    "f1_mnb = f1_score(y_test,y_pred_test_mnb,average='macro')\n",
    "matrix_mnb = confusion_matrix(y_test,y_pred_test_mnb)\n",
    "print('Multimominal Naive Bayes Model\\n')\n",
    "print(str('Accuracy: '+'{:04.2f}'.format(acc_score_mnb*100))+'%')\n",
    "print(str('Precision: '+'{:04.2f}'.format(prec_score_mnb*100))+'%')\n",
    "print(str('Recall: '+'{:04.2f}'.format(recall_mnb*100))+'%')\n",
    "print('F1 Score: ',f1_mnb)\n",
    "print(matrix_mnb)"
   ]
  },
  {
   "cell_type": "markdown",
   "metadata": {
    "id": "SYMdylft3xEx"
   },
   "source": [
    "# Explain the model prediction"
   ]
  },
  {
   "cell_type": "markdown",
   "metadata": {
    "id": "35GU2wpCwukP"
   },
   "source": [
    "Multimominal Naive Bayes Model has higher accuracy than Bernouli Naive Bayes Model."
   ]
  },
  {
   "cell_type": "code",
   "execution_count": 26,
   "metadata": {
    "colab": {
     "base_uri": "https://localhost:8080/",
     "height": 206
    },
    "execution": {
     "iopub.execute_input": "2021-11-18T18:24:17.763951Z",
     "iopub.status.busy": "2021-11-18T18:24:17.763658Z",
     "iopub.status.idle": "2021-11-18T18:24:17.792109Z",
     "shell.execute_reply": "2021-11-18T18:24:17.791192Z",
     "shell.execute_reply.started": "2021-11-18T18:24:17.763910Z"
    },
    "id": "Y-Td0j-j3zyl",
    "outputId": "0e85a081-3311-43a4-8465-79579f8c831d"
   },
   "outputs": [
    {
     "data": {
      "text/html": [
       "<div>\n",
       "<style scoped>\n",
       "    .dataframe tbody tr th:only-of-type {\n",
       "        vertical-align: middle;\n",
       "    }\n",
       "\n",
       "    .dataframe tbody tr th {\n",
       "        vertical-align: top;\n",
       "    }\n",
       "\n",
       "    .dataframe thead th {\n",
       "        text-align: right;\n",
       "    }\n",
       "</style>\n",
       "<table border=\"1\" class=\"dataframe\">\n",
       "  <thead>\n",
       "    <tr style=\"text-align: right;\">\n",
       "      <th></th>\n",
       "      <th>sentence</th>\n",
       "      <th>label</th>\n",
       "      <th>pred_label</th>\n",
       "    </tr>\n",
       "  </thead>\n",
       "  <tbody>\n",
       "    <tr>\n",
       "      <th>10650</th>\n",
       "      <td>i noticed several months ago that i d start fe...</td>\n",
       "      <td>stressed</td>\n",
       "      <td>stressed</td>\n",
       "    </tr>\n",
       "    <tr>\n",
       "      <th>2041</th>\n",
       "      <td>i love lots of different kinds of sports and l...</td>\n",
       "      <td>not-stressed</td>\n",
       "      <td>not-stressed</td>\n",
       "    </tr>\n",
       "    <tr>\n",
       "      <th>8668</th>\n",
       "      <td>i feel even if he killed himself it was becaus...</td>\n",
       "      <td>stressed</td>\n",
       "      <td>not-stressed</td>\n",
       "    </tr>\n",
       "    <tr>\n",
       "      <th>1114</th>\n",
       "      <td>i feel numb the way a wound does before it rea...</td>\n",
       "      <td>stressed</td>\n",
       "      <td>stressed</td>\n",
       "    </tr>\n",
       "    <tr>\n",
       "      <th>13902</th>\n",
       "      <td>i was quite the outsider due to my british men...</td>\n",
       "      <td>stressed</td>\n",
       "      <td>stressed</td>\n",
       "    </tr>\n",
       "  </tbody>\n",
       "</table>\n",
       "</div>"
      ],
      "text/plain": [
       "                                                sentence         label  \\\n",
       "10650  i noticed several months ago that i d start fe...      stressed   \n",
       "2041   i love lots of different kinds of sports and l...  not-stressed   \n",
       "8668   i feel even if he killed himself it was becaus...      stressed   \n",
       "1114   i feel numb the way a wound does before it rea...      stressed   \n",
       "13902  i was quite the outsider due to my british men...      stressed   \n",
       "\n",
       "         pred_label  \n",
       "10650      stressed  \n",
       "2041   not-stressed  \n",
       "8668   not-stressed  \n",
       "1114       stressed  \n",
       "13902      stressed  "
      ]
     },
     "execution_count": 26,
     "metadata": {},
     "output_type": "execute_result"
    }
   ],
   "source": [
    "test_data = df_reidx.iloc[test_idx]\n",
    "test_data['pred_label'] = y_pred_test_lr\n",
    "test_data.head()[['sentence','label','pred_label']]\n",
    "# shows what the prediction label fit to the real label"
   ]
  },
  {
   "cell_type": "code",
   "execution_count": 27,
   "metadata": {
    "colab": {
     "base_uri": "https://localhost:8080/",
     "height": 206
    },
    "execution": {
     "iopub.execute_input": "2021-11-18T18:24:17.793939Z",
     "iopub.status.busy": "2021-11-18T18:24:17.793646Z",
     "iopub.status.idle": "2021-11-18T18:24:17.812121Z",
     "shell.execute_reply": "2021-11-18T18:24:17.811167Z",
     "shell.execute_reply.started": "2021-11-18T18:24:17.793900Z"
    },
    "id": "G08njojA4JMi",
    "outputId": "aadeaee1-6fac-4099-c3f5-9f2f344af5a3"
   },
   "outputs": [
    {
     "data": {
      "text/html": [
       "<div>\n",
       "<style scoped>\n",
       "    .dataframe tbody tr th:only-of-type {\n",
       "        vertical-align: middle;\n",
       "    }\n",
       "\n",
       "    .dataframe tbody tr th {\n",
       "        vertical-align: top;\n",
       "    }\n",
       "\n",
       "    .dataframe thead th {\n",
       "        text-align: right;\n",
       "    }\n",
       "</style>\n",
       "<table border=\"1\" class=\"dataframe\">\n",
       "  <thead>\n",
       "    <tr style=\"text-align: right;\">\n",
       "      <th></th>\n",
       "      <th>sentence</th>\n",
       "      <th>label</th>\n",
       "      <th>pred_label</th>\n",
       "    </tr>\n",
       "  </thead>\n",
       "  <tbody>\n",
       "    <tr>\n",
       "      <th>8668</th>\n",
       "      <td>i feel even if he killed himself it was becaus...</td>\n",
       "      <td>stressed</td>\n",
       "      <td>not-stressed</td>\n",
       "    </tr>\n",
       "    <tr>\n",
       "      <th>11072</th>\n",
       "      <td>being subject to unfair treatment in a working...</td>\n",
       "      <td>stressed</td>\n",
       "      <td>not-stressed</td>\n",
       "    </tr>\n",
       "    <tr>\n",
       "      <th>13419</th>\n",
       "      <td>i feel like a bit of a strange one</td>\n",
       "      <td>medium-stressed</td>\n",
       "      <td>stressed</td>\n",
       "    </tr>\n",
       "    <tr>\n",
       "      <th>5483</th>\n",
       "      <td>i have my lowest level class first which is de...</td>\n",
       "      <td>not-stressed</td>\n",
       "      <td>stressed</td>\n",
       "    </tr>\n",
       "    <tr>\n",
       "      <th>7713</th>\n",
       "      <td>i am feel overwhelmed</td>\n",
       "      <td>stressed</td>\n",
       "      <td>medium-stressed</td>\n",
       "    </tr>\n",
       "  </tbody>\n",
       "</table>\n",
       "</div>"
      ],
      "text/plain": [
       "                                                sentence            label  \\\n",
       "8668   i feel even if he killed himself it was becaus...         stressed   \n",
       "11072  being subject to unfair treatment in a working...         stressed   \n",
       "13419                 i feel like a bit of a strange one  medium-stressed   \n",
       "5483   i have my lowest level class first which is de...     not-stressed   \n",
       "7713                               i am feel overwhelmed         stressed   \n",
       "\n",
       "            pred_label  \n",
       "8668      not-stressed  \n",
       "11072     not-stressed  \n",
       "13419         stressed  \n",
       "5483          stressed  \n",
       "7713   medium-stressed  "
      ]
     },
     "execution_count": 27,
     "metadata": {},
     "output_type": "execute_result"
    }
   ],
   "source": [
    "# shows what the prediction label does not fit to the real label\n",
    "test_data[test_data['label'] != test_data['pred_label']].head()[['sentence','label','pred_label']].head()"
   ]
  },
  {
   "cell_type": "markdown",
   "metadata": {
    "id": "YQiIzf5nVKpy"
   },
   "source": [
    "##### Predicted features of logistic regression model"
   ]
  },
  {
   "cell_type": "code",
   "execution_count": 28,
   "metadata": {
    "colab": {
     "base_uri": "https://localhost:8080/"
    },
    "execution": {
     "iopub.execute_input": "2021-11-18T18:24:17.813740Z",
     "iopub.status.busy": "2021-11-18T18:24:17.813242Z",
     "iopub.status.idle": "2021-11-18T18:24:17.835029Z",
     "shell.execute_reply": "2021-11-18T18:24:17.834154Z",
     "shell.execute_reply.started": "2021-11-18T18:24:17.813703Z"
    },
    "id": "MxlhT5tE4VZC",
    "outputId": "f9b974a6-7a86-45ae-f90a-cb101f6dd639"
   },
   "outputs": [
    {
     "name": "stdout",
     "output_type": "stream",
     "text": [
      "Top positive features:\n"
     ]
    },
    {
     "data": {
      "text/plain": [
       "[('curiou', 4.498),\n",
       " ('daze', 4.171),\n",
       " ('impress', 4.023),\n",
       " ('funni', 3.956),\n",
       " ('shock', 3.747),\n",
       " ('amaz', 3.686),\n",
       " ('surpris', 3.655),\n",
       " ('stun', 3.62),\n",
       " ('overwhelm', 3.145),\n",
       " ('weird', 3.05)]"
      ]
     },
     "execution_count": 28,
     "metadata": {},
     "output_type": "execute_result"
    }
   ],
   "source": [
    "feature_to_coef = {word: float(\"%.3f\" % coef) for word, coef in zip(vectorizer.get_feature_names(), lr_clf.coef_[0])}\n",
    "\n",
    "print(\"Top positive features:\")\n",
    "sorted(feature_to_coef.items(), key=lambda x: x[1], reverse=True)[:10]"
   ]
  },
  {
   "cell_type": "code",
   "execution_count": 29,
   "metadata": {
    "colab": {
     "base_uri": "https://localhost:8080/"
    },
    "execution": {
     "iopub.execute_input": "2021-11-18T18:24:17.836825Z",
     "iopub.status.busy": "2021-11-18T18:24:17.836297Z",
     "iopub.status.idle": "2021-11-18T18:24:17.848767Z",
     "shell.execute_reply": "2021-11-18T18:24:17.847874Z",
     "shell.execute_reply.started": "2021-11-18T18:24:17.836786Z"
    },
    "id": "L-Zu8m4TQ_tl",
    "outputId": "b855977d-23b1-4859-ba50-0b6567c548f5"
   },
   "outputs": [
    {
     "name": "stdout",
     "output_type": "stream",
     "text": [
      "Top negative features:\n"
     ]
    },
    {
     "data": {
      "text/plain": [
       "[('joy', -1.009),\n",
       " ('bounci', -0.954),\n",
       " ('review', -0.929),\n",
       " ('awkward', -0.894),\n",
       " ('la', -0.884),\n",
       " ('late', -0.87),\n",
       " ('uncl', -0.8),\n",
       " ('moistur', -0.785),\n",
       " ('skin', -0.771),\n",
       " ('stupid', -0.738)]"
      ]
     },
     "execution_count": 29,
     "metadata": {},
     "output_type": "execute_result"
    }
   ],
   "source": [
    "# most of the words are reliable evidence of indicating negative sentiments\n",
    "print(\"Top negative features:\")\n",
    "sorted(feature_to_coef.items(), key=lambda x: x[1], reverse=False)[:10]"
   ]
  },
  {
   "cell_type": "markdown",
   "metadata": {
    "id": "__g2W9hzVSvI"
   },
   "source": [
    "##### Predicted features of BernouliNB"
   ]
  },
  {
   "cell_type": "code",
   "execution_count": 30,
   "metadata": {
    "colab": {
     "base_uri": "https://localhost:8080/"
    },
    "execution": {
     "iopub.execute_input": "2021-11-18T18:24:17.850751Z",
     "iopub.status.busy": "2021-11-18T18:24:17.850285Z",
     "iopub.status.idle": "2021-11-18T18:24:18.011457Z",
     "shell.execute_reply": "2021-11-18T18:24:18.010502Z",
     "shell.execute_reply.started": "2021-11-18T18:24:17.850719Z"
    },
    "id": "OZj7AYpyQPJP",
    "outputId": "5432771d-8af0-4a93-dd04-b029945e3ed8"
   },
   "outputs": [
    {
     "name": "stdout",
     "output_type": "stream",
     "text": [
      "Top positive features:\n"
     ]
    },
    {
     "data": {
      "text/plain": [
       "[('amaz', -1.624),\n",
       " ('like', -1.998),\n",
       " ('surpris', -2.282),\n",
       " ('curiou', -2.299),\n",
       " ('funni', -2.335),\n",
       " ('impress', -2.353),\n",
       " ('overwhelm', -2.372),\n",
       " ('weird', -2.372),\n",
       " ('strang', -2.45),\n",
       " ('noth', -2.513)]"
      ]
     },
     "execution_count": 30,
     "metadata": {},
     "output_type": "execute_result"
    }
   ],
   "source": [
    "feature_to_coef = {word: float(\"%.3f\" % coef) for word, coef in zip(vectorizer.get_feature_names(), nb_clf.coef_[0])}\n",
    "\n",
    "print(\"Top positive features:\")\n",
    "sorted(feature_to_coef.items(), key=lambda x: x[1], reverse=True)[:10]"
   ]
  },
  {
   "cell_type": "code",
   "execution_count": 31,
   "metadata": {
    "colab": {
     "base_uri": "https://localhost:8080/"
    },
    "execution": {
     "iopub.execute_input": "2021-11-18T18:24:18.013834Z",
     "iopub.status.busy": "2021-11-18T18:24:18.013502Z",
     "iopub.status.idle": "2021-11-18T18:24:18.028076Z",
     "shell.execute_reply": "2021-11-18T18:24:18.027050Z",
     "shell.execute_reply.started": "2021-11-18T18:24:18.013792Z"
    },
    "id": "wCqxxw3RRBaw",
    "outputId": "eeba553d-b635-4958-bc88-02f2916ff228"
   },
   "outputs": [
    {
     "name": "stdout",
     "output_type": "stream",
     "text": [
      "Top negative features:\n"
     ]
    },
    {
     "data": {
      "text/plain": [
       "[('aa', -6.342),\n",
       " ('abandon', -6.342),\n",
       " ('abc', -6.342),\n",
       " ('abdomen', -6.342),\n",
       " ('abid', -6.342),\n",
       " ('abit', -6.342),\n",
       " ('abroad', -6.342),\n",
       " ('absenc', -6.342),\n",
       " ('absurd', -6.342),\n",
       " ('abus', -6.342)]"
      ]
     },
     "execution_count": 31,
     "metadata": {},
     "output_type": "execute_result"
    }
   ],
   "source": [
    "# most of the words are reliable evidence of indicating negative sentiments\n",
    "print(\"Top negative features:\")\n",
    "sorted(feature_to_coef.items(), key=lambda x: x[1], reverse=False)[:10]"
   ]
  },
  {
   "cell_type": "markdown",
   "metadata": {
    "id": "_dd9PlAKVASq"
   },
   "source": [
    "##### Predicted features of multinomial NB"
   ]
  },
  {
   "cell_type": "code",
   "execution_count": 32,
   "metadata": {
    "colab": {
     "base_uri": "https://localhost:8080/"
    },
    "execution": {
     "iopub.execute_input": "2021-11-18T18:24:18.029501Z",
     "iopub.status.busy": "2021-11-18T18:24:18.029280Z",
     "iopub.status.idle": "2021-11-18T18:24:18.047438Z",
     "shell.execute_reply": "2021-11-18T18:24:18.046849Z",
     "shell.execute_reply.started": "2021-11-18T18:24:18.029474Z"
    },
    "id": "sdxER_gxQPpp",
    "outputId": "661dc6a2-9a3b-46b3-cd45-2755c80ac592"
   },
   "outputs": [
    {
     "name": "stdout",
     "output_type": "stream",
     "text": [
      "Top positive features:\n"
     ]
    },
    {
     "data": {
      "text/plain": [
       "[('amaz', -4.288),\n",
       " ('like', -4.522),\n",
       " ('curiou', -4.956),\n",
       " ('funni', -4.956),\n",
       " ('surpris', -4.973),\n",
       " ('impress', -5.008),\n",
       " ('weird', -5.044),\n",
       " ('overwhelm', -5.063),\n",
       " ('noth', -5.082),\n",
       " ('strang', -5.141)]"
      ]
     },
     "execution_count": 32,
     "metadata": {},
     "output_type": "execute_result"
    }
   ],
   "source": [
    "feature_to_coef = {word: float(\"%.3f\" % coef) for word, coef in zip(vectorizer.get_feature_names(), mnb.coef_[0])}\n",
    "\n",
    "print(\"Top positive features:\")\n",
    "sorted(feature_to_coef.items(), key=lambda x: x[1], reverse=True)[:10]"
   ]
  },
  {
   "cell_type": "code",
   "execution_count": 33,
   "metadata": {
    "colab": {
     "base_uri": "https://localhost:8080/"
    },
    "execution": {
     "iopub.execute_input": "2021-11-18T18:24:18.048527Z",
     "iopub.status.busy": "2021-11-18T18:24:18.048315Z",
     "iopub.status.idle": "2021-11-18T18:24:18.058496Z",
     "shell.execute_reply": "2021-11-18T18:24:18.057512Z",
     "shell.execute_reply.started": "2021-11-18T18:24:18.048499Z"
    },
    "id": "kPa6sLvLvjbT",
    "outputId": "3f970010-af0a-4012-ea73-52a671ddf959"
   },
   "outputs": [
    {
     "name": "stdout",
     "output_type": "stream",
     "text": [
      "Top negative features:\n"
     ]
    },
    {
     "data": {
      "text/plain": [
       "[('aa', -9.033),\n",
       " ('abandon', -9.033),\n",
       " ('abc', -9.033),\n",
       " ('abdomen', -9.033),\n",
       " ('abid', -9.033),\n",
       " ('abit', -9.033),\n",
       " ('abroad', -9.033),\n",
       " ('absenc', -9.033),\n",
       " ('absurd', -9.033),\n",
       " ('abus', -9.033)]"
      ]
     },
     "execution_count": 33,
     "metadata": {},
     "output_type": "execute_result"
    }
   ],
   "source": [
    "# most of the words are reliable evidence of indicating negative sentiments\n",
    "print(\"Top negative features:\")\n",
    "sorted(feature_to_coef.items(), key=lambda x: x[1], reverse=False)[:10]"
   ]
  },
  {
   "cell_type": "markdown",
   "metadata": {
    "id": "4enhxresvsZo"
   },
   "source": [
    "# Conclusion"
   ]
  },
  {
   "cell_type": "code",
   "execution_count": 34,
   "metadata": {
    "colab": {
     "base_uri": "https://localhost:8080/"
    },
    "execution": {
     "iopub.execute_input": "2021-11-18T18:24:18.060141Z",
     "iopub.status.busy": "2021-11-18T18:24:18.059908Z",
     "iopub.status.idle": "2021-11-18T18:24:18.074679Z",
     "shell.execute_reply": "2021-11-18T18:24:18.074033Z",
     "shell.execute_reply.started": "2021-11-18T18:24:18.060110Z"
    },
    "id": "sy7jHH-Fv18V",
    "outputId": "5c10097e-4c22-415c-e2f1-5842d355c85b"
   },
   "outputs": [
    {
     "name": "stdout",
     "output_type": "stream",
     "text": [
      "['stressed' 'not-stressed' 'stressed' 'stressed' 'stressed']\n"
     ]
    }
   ],
   "source": [
    "text=['i am not feeling well', 'i want to make this project better', 'i feel aaaaaaah', 'i feel like a bit of a strange one', 'i feel overwhelmed']\n",
    "test_result = lr_clf.predict(vectorizer.transform(text))\n",
    "print(test_result)"
   ]
  },
  {
   "cell_type": "code",
   "execution_count": 1,
   "metadata": {},
   "outputs": [
    {
     "ename": "NameError",
     "evalue": "name 'lr_clf' is not defined",
     "output_type": "error",
     "traceback": [
      "\u001b[0;31m---------------------------------------------------------------------------\u001b[0m",
      "\u001b[0;31mNameError\u001b[0m                                 Traceback (most recent call last)",
      "\u001b[0;32m<ipython-input-1-70872e0c07b9>\u001b[0m in \u001b[0;36m<module>\u001b[0;34m\u001b[0m\n\u001b[1;32m      1\u001b[0m \u001b[0msentence\u001b[0m \u001b[0;34m=\u001b[0m \u001b[0;34m[\u001b[0m\u001b[0;34m'Why the do we have a review tomorrow?'\u001b[0m\u001b[0;34m,\u001b[0m\u001b[0;34m'I cant make a decision i am so happy'\u001b[0m\u001b[0;34m,\u001b[0m\u001b[0;34m'Someone please save me!'\u001b[0m\u001b[0;34m]\u001b[0m\u001b[0;34m\u001b[0m\u001b[0;34m\u001b[0m\u001b[0m\n\u001b[0;32m----> 2\u001b[0;31m \u001b[0mprint\u001b[0m\u001b[0;34m(\u001b[0m\u001b[0mlr_clf\u001b[0m\u001b[0;34m.\u001b[0m\u001b[0mpredict\u001b[0m\u001b[0;34m(\u001b[0m\u001b[0mvectorizer\u001b[0m\u001b[0;34m.\u001b[0m\u001b[0mtransform\u001b[0m\u001b[0;34m(\u001b[0m\u001b[0msentence\u001b[0m\u001b[0;34m)\u001b[0m\u001b[0;34m)\u001b[0m\u001b[0;34m)\u001b[0m\u001b[0;34m\u001b[0m\u001b[0;34m\u001b[0m\u001b[0m\n\u001b[0m",
      "\u001b[0;31mNameError\u001b[0m: name 'lr_clf' is not defined"
     ]
    }
   ],
   "source": [
    "sentence = ['Why the do we have a review tomorrow?','I cant make a decision i am so happy','Someone please save me!']\n",
    "print(lr_clf.predict(vectorizer.transform(sentence)))"
   ]
  },
  {
   "cell_type": "code",
   "execution_count": null,
   "metadata": {},
   "outputs": [],
   "source": []
  }
 ],
 "metadata": {
  "colab": {
   "collapsed_sections": [],
   "include_colab_link": true,
   "name": "emotiondetectionusingnlp.ipynb",
   "provenance": []
  },
  "kernelspec": {
   "display_name": "Python 3",
   "language": "python",
   "name": "python3"
  },
  "language_info": {
   "codemirror_mode": {
    "name": "ipython",
    "version": 3
   },
   "file_extension": ".py",
   "mimetype": "text/x-python",
   "name": "python",
   "nbconvert_exporter": "python",
   "pygments_lexer": "ipython3",
   "version": "3.8.8"
  }
 },
 "nbformat": 4,
 "nbformat_minor": 1
}
